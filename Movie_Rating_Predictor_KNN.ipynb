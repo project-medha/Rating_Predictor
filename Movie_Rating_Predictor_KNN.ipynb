{
 "cells": [
  {
   "cell_type": "code",
   "execution_count": 2,
   "id": "49332bbe",
   "metadata": {},
   "outputs": [],
   "source": [
    "import pandas as pd "
   ]
  },
  {
   "cell_type": "code",
   "execution_count": 35,
   "id": "577b9af6",
   "metadata": {},
   "outputs": [
    {
     "data": {
      "text/html": [
       "<div>\n",
       "<style scoped>\n",
       "    .dataframe tbody tr th:only-of-type {\n",
       "        vertical-align: middle;\n",
       "    }\n",
       "\n",
       "    .dataframe tbody tr th {\n",
       "        vertical-align: top;\n",
       "    }\n",
       "\n",
       "    .dataframe thead th {\n",
       "        text-align: right;\n",
       "    }\n",
       "</style>\n",
       "<table border=\"1\" class=\"dataframe\">\n",
       "  <thead>\n",
       "    <tr style=\"text-align: right;\">\n",
       "      <th></th>\n",
       "      <th>User Id</th>\n",
       "      <th>Movie_ID</th>\n",
       "      <th>Rating</th>\n",
       "    </tr>\n",
       "  </thead>\n",
       "  <tbody>\n",
       "    <tr>\n",
       "      <th>0</th>\n",
       "      <td>0</td>\n",
       "      <td>50</td>\n",
       "      <td>5</td>\n",
       "    </tr>\n",
       "    <tr>\n",
       "      <th>1</th>\n",
       "      <td>0</td>\n",
       "      <td>172</td>\n",
       "      <td>5</td>\n",
       "    </tr>\n",
       "    <tr>\n",
       "      <th>2</th>\n",
       "      <td>0</td>\n",
       "      <td>133</td>\n",
       "      <td>1</td>\n",
       "    </tr>\n",
       "    <tr>\n",
       "      <th>3</th>\n",
       "      <td>196</td>\n",
       "      <td>242</td>\n",
       "      <td>3</td>\n",
       "    </tr>\n",
       "    <tr>\n",
       "      <th>4</th>\n",
       "      <td>186</td>\n",
       "      <td>302</td>\n",
       "      <td>3</td>\n",
       "    </tr>\n",
       "  </tbody>\n",
       "</table>\n",
       "</div>"
      ],
      "text/plain": [
       "   User Id  Movie_ID  Rating\n",
       "0        0        50       5\n",
       "1        0       172       5\n",
       "2        0       133       1\n",
       "3      196       242       3\n",
       "4      186       302       3"
      ]
     },
     "execution_count": 35,
     "metadata": {},
     "output_type": "execute_result"
    }
   ],
   "source": [
    "rating_cols=['User Id','Movie_ID','Rating']\n",
    "ratings_db=pd.read_csv(\"C:\\\\Users\\\\91839\\\\MLCourse\\\\ml-100k\\\\u.data\",sep='\\t',\n",
    "                       names=rating_cols,usecols=range(3),encoding=\"ISO-8859-1\")\n",
    "ratings_db.head()\n"
   ]
  },
  {
   "cell_type": "code",
   "execution_count": 4,
   "id": "9c0c1bfa",
   "metadata": {},
   "outputs": [],
   "source": [
    "import numpy as np"
   ]
  },
  {
   "cell_type": "code",
   "execution_count": 5,
   "id": "33c8db06",
   "metadata": {},
   "outputs": [
    {
     "data": {
      "text/html": [
       "<div>\n",
       "<style scoped>\n",
       "    .dataframe tbody tr th:only-of-type {\n",
       "        vertical-align: middle;\n",
       "    }\n",
       "\n",
       "    .dataframe tbody tr th {\n",
       "        vertical-align: top;\n",
       "    }\n",
       "\n",
       "    .dataframe thead tr th {\n",
       "        text-align: left;\n",
       "    }\n",
       "\n",
       "    .dataframe thead tr:last-of-type th {\n",
       "        text-align: right;\n",
       "    }\n",
       "</style>\n",
       "<table border=\"1\" class=\"dataframe\">\n",
       "  <thead>\n",
       "    <tr>\n",
       "      <th></th>\n",
       "      <th colspan=\"2\" halign=\"left\">Rating</th>\n",
       "    </tr>\n",
       "    <tr>\n",
       "      <th></th>\n",
       "      <th>size</th>\n",
       "      <th>mean</th>\n",
       "    </tr>\n",
       "    <tr>\n",
       "      <th>Movie_ID</th>\n",
       "      <th></th>\n",
       "      <th></th>\n",
       "    </tr>\n",
       "  </thead>\n",
       "  <tbody>\n",
       "    <tr>\n",
       "      <th>1</th>\n",
       "      <td>452</td>\n",
       "      <td>3.878319</td>\n",
       "    </tr>\n",
       "    <tr>\n",
       "      <th>2</th>\n",
       "      <td>131</td>\n",
       "      <td>3.206107</td>\n",
       "    </tr>\n",
       "    <tr>\n",
       "      <th>3</th>\n",
       "      <td>90</td>\n",
       "      <td>3.033333</td>\n",
       "    </tr>\n",
       "    <tr>\n",
       "      <th>4</th>\n",
       "      <td>209</td>\n",
       "      <td>3.550239</td>\n",
       "    </tr>\n",
       "    <tr>\n",
       "      <th>5</th>\n",
       "      <td>86</td>\n",
       "      <td>3.302326</td>\n",
       "    </tr>\n",
       "  </tbody>\n",
       "</table>\n",
       "</div>"
      ],
      "text/plain": [
       "         Rating          \n",
       "           size      mean\n",
       "Movie_ID                 \n",
       "1           452  3.878319\n",
       "2           131  3.206107\n",
       "3            90  3.033333\n",
       "4           209  3.550239\n",
       "5            86  3.302326"
      ]
     },
     "execution_count": 5,
     "metadata": {},
     "output_type": "execute_result"
    }
   ],
   "source": [
    "comb_ratings=ratings_db.groupby('Movie_ID').agg({'Rating':[np.size,np.mean]})\n",
    "comb_ratings.head()"
   ]
  },
  {
   "cell_type": "code",
   "execution_count": null,
   "id": "291bceef",
   "metadata": {},
   "outputs": [],
   "source": [
    "print(isinstance())"
   ]
  },
  {
   "cell_type": "code",
   "execution_count": 9,
   "id": "bf2b92a0",
   "metadata": {},
   "outputs": [
    {
     "data": {
      "text/html": [
       "<div>\n",
       "<style scoped>\n",
       "    .dataframe tbody tr th:only-of-type {\n",
       "        vertical-align: middle;\n",
       "    }\n",
       "\n",
       "    .dataframe tbody tr th {\n",
       "        vertical-align: top;\n",
       "    }\n",
       "\n",
       "    .dataframe thead th {\n",
       "        text-align: right;\n",
       "    }\n",
       "</style>\n",
       "<table border=\"1\" class=\"dataframe\">\n",
       "  <thead>\n",
       "    <tr style=\"text-align: right;\">\n",
       "      <th></th>\n",
       "      <th>size</th>\n",
       "    </tr>\n",
       "    <tr>\n",
       "      <th>Movie_ID</th>\n",
       "      <th></th>\n",
       "    </tr>\n",
       "  </thead>\n",
       "  <tbody>\n",
       "    <tr>\n",
       "      <th>1</th>\n",
       "      <td>0.773585</td>\n",
       "    </tr>\n",
       "    <tr>\n",
       "      <th>2</th>\n",
       "      <td>0.222985</td>\n",
       "    </tr>\n",
       "    <tr>\n",
       "      <th>3</th>\n",
       "      <td>0.152659</td>\n",
       "    </tr>\n",
       "    <tr>\n",
       "      <th>4</th>\n",
       "      <td>0.356775</td>\n",
       "    </tr>\n",
       "    <tr>\n",
       "      <th>5</th>\n",
       "      <td>0.145798</td>\n",
       "    </tr>\n",
       "  </tbody>\n",
       "</table>\n",
       "</div>"
      ],
      "text/plain": [
       "              size\n",
       "Movie_ID          \n",
       "1         0.773585\n",
       "2         0.222985\n",
       "3         0.152659\n",
       "4         0.356775\n",
       "5         0.145798"
      ]
     },
     "execution_count": 9,
     "metadata": {},
     "output_type": "execute_result"
    }
   ],
   "source": [
    "popscore_db=pd.DataFrame(comb_ratings['Rating']['size'])\n",
    "popscore_db.head()\n",
    "norm_popscore_db=comb_ratings_db.apply(lambda x:(x-np.min(x))/(np.max(x)-np.min(x)))\n",
    "norm_popscore_db.head()"
   ]
  },
  {
   "cell_type": "code",
   "execution_count": 23,
   "id": "fdf1d415",
   "metadata": {},
   "outputs": [],
   "source": [
    "movie_dict={}\n",
    "with open(r\"C:\\\\Users\\\\91839\\\\MLCourse\\\\ml-100k\\\\u.item\",encoding=\"ISO-8859-1\") as f:\n",
    "    #the r in r\"<address>\" denotes reading mode \n",
    "    #the encoding \"ISO-8859-1\" is used for text file \n",
    "    #temp=''\n",
    "    for line in f:\n",
    "        #every line in the file is extracted iteratively and stored as line variable\n",
    "        fields = line.rstrip('\\n').split('|')\n",
    "        #the line variable is split into list of fields we observe the file contains | as delimiter\n",
    "        #rstrip('\\n') is used to remove the trailing new line charactor \n",
    "        movieID = int(fields[0])\n",
    "        name = fields[1]\n",
    "        #we do not use fields 2,3,4,\n",
    "        genres = fields[5:25]\n",
    "        #the genres are present in string values we map them to int \n",
    "        genres = map(int,genres)\n",
    "        movie_dict[movieID] = (name, np.array(list(genres)), \n",
    "                              norm_popscore_db.loc[movieID].get('size'), \n",
    "                              comb_ratings.loc[movieID].Rating.get('mean'))\n",
    "        #creating entry in movieDict with movie_title as key "
   ]
  },
  {
   "cell_type": "code",
   "execution_count": 22,
   "id": "c757130a",
   "metadata": {},
   "outputs": [],
   "source": [
    "from scipy import spatial "
   ]
  },
  {
   "cell_type": "code",
   "execution_count": 24,
   "id": "cc003f9e",
   "metadata": {},
   "outputs": [
    {
     "data": {
      "text/plain": [
       "1.620926243567753"
      ]
     },
     "execution_count": 24,
     "metadata": {},
     "output_type": "execute_result"
    }
   ],
   "source": [
    "def ComputeDistance(a,b):\n",
    "    genresA = a[1]\n",
    "    genresB = b[1]\n",
    "    genreDistance = spatial.distance.cosine(genresA, genresB)\n",
    "    popularityA = a[2]\n",
    "    popularityB = b[2]\n",
    "    popularityDistance = abs(popularityA - popularityB)\n",
    "    return genreDistance + popularityDistance\n",
    "ComputeDistance(movie_dict[1], movie_dict[3])\n"
   ]
  },
  {
   "cell_type": "code",
   "execution_count": 25,
   "id": "3c62b14f",
   "metadata": {},
   "outputs": [],
   "source": [
    "import operator"
   ]
  },
  {
   "cell_type": "code",
   "execution_count": 31,
   "id": "0a6e45bf",
   "metadata": {},
   "outputs": [],
   "source": [
    "def getNeighbors(movieID, K):\n",
    "    distances = []\n",
    "    #array initialized for storing distance metric for all the datapoints from samplepoint\n",
    "    for movie in movie_dict:\n",
    "    # every movie in movie dict is getting called \n",
    "        if (movie != movieID):\n",
    "        #only movies other than sample movie are being measured for distance \n",
    "            dist = ComputeDistance(movie_dict[movieID], movie_dict[movie])\n",
    "            #distance computed between each movie and sample movie\n",
    "            distances.append((movie, dist))\n",
    "            #two elements are getting appended hence a tuple is generated \n",
    "    distances.sort(key=operator.itemgetter(1))\n",
    "    #the distance is getting sorted in ascending order using the second element of the tuple i.e at index(1) \n",
    "    \n",
    "    neighbors = []\n",
    "    #array initialized to hold the nearest elements/movies to the sample movie\n",
    "    for x in range(K):\n",
    "        neighbors.append(distances[x][0])\n",
    "        #K neighbors getting appended taking the movie names stored in distances array at index[0]\n",
    "    return neighbors\n"
   ]
  },
  {
   "cell_type": "code",
   "execution_count": 32,
   "id": "af399f63",
   "metadata": {},
   "outputs": [
    {
     "name": "stdout",
     "output_type": "stream",
     "text": [
      "Liar Liar (1997) 3.156701030927835\n",
      "Aladdin (1992) 3.8127853881278537\n",
      "Willy Wonka and the Chocolate Factory (1971) 3.6319018404907975\n",
      "Monty Python and the Holy Grail (1974) 4.0664556962025316\n",
      "Full Monty, The (1997) 3.926984126984127\n",
      "George of the Jungle (1997) 2.685185185185185\n",
      "Beavis and Butt-head Do America (1996) 2.7884615384615383\n",
      "Birdcage, The (1996) 3.4436860068259385\n",
      "Home Alone (1990) 3.0875912408759123\n",
      "Aladdin and the King of Thieves (1996) 2.8461538461538463\n",
      "3.3445905900235564\n",
      "3.0\n"
     ]
    }
   ],
   "source": [
    "K = 10\n",
    "avgRating = 0\n",
    "#avgRating variable is initialized \n",
    "neighbors = getNeighbors(1, K)\n",
    "#neighbors array getting stored in the variable\n",
    "for neighbor in neighbors:\n",
    "    #every movie getting iterated\n",
    "    avgRating += movie_dict[neighbor][3]\n",
    "    #extracting the average rating of the neighbor movie from movie_dict and adding the sum of rating\n",
    "    print (movie_dict[neighbor][0] + \" \" + str(movie_dict[neighbor][3]))\n",
    "    \n",
    "avgRating /= K\n",
    "#the average Rating is taken by dividing the sum of ratings of neighbor movies with no of neighboring movies\n",
    "print(avgRating)\n",
    "print(movie_dict[movieID][3])"
   ]
  },
  {
   "cell_type": "code",
   "execution_count": 54,
   "id": "8aea5888",
   "metadata": {},
   "outputs": [
    {
     "data": {
      "text/plain": [
       "Meet John Doe (1941)                              7.347410\n",
       "Return of the Jedi (1983)                         7.178172\n",
       "When We Were Kings (1996)                         6.018704\n",
       "Robert A. Heinlein's The Puppet Masters (1994)    5.909889\n",
       "Ghost in the Shell (Kokaku kidotai) (1995)        5.607133\n",
       "dtype: float64"
      ]
     },
     "execution_count": 54,
     "metadata": {},
     "output_type": "execute_result"
    }
   ],
   "source": []
  }
 ],
 "metadata": {
  "kernelspec": {
   "display_name": "Python 3 (ipykernel)",
   "language": "python",
   "name": "python3"
  },
  "language_info": {
   "codemirror_mode": {
    "name": "ipython",
    "version": 3
   },
   "file_extension": ".py",
   "mimetype": "text/x-python",
   "name": "python",
   "nbconvert_exporter": "python",
   "pygments_lexer": "ipython3",
   "version": "3.10.9"
  }
 },
 "nbformat": 4,
 "nbformat_minor": 5
}
